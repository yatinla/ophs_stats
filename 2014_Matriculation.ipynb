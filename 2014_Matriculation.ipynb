{
 "metadata": {
  "name": "2014_Matriculation"
 },
 "nbformat": 3,
 "nbformat_minor": 0,
 "worksheets": [
  {
   "cells": [
    {
     "cell_type": "code",
     "collapsed": false,
     "input": [
      "from bs4 import BeautifulSoup as bs\n",
      "from bs4 import NavigableString\n",
      "from bs4 import Tag\n",
      "import urllib2\n",
      "import pandas as pd\n",
      "import numpy as np"
     ],
     "language": "python",
     "metadata": {},
     "outputs": [],
     "prompt_number": 201
    },
    {
     "cell_type": "code",
     "collapsed": false,
     "input": [
      "soup = bs(urllib2.urlopen(\"http://www.oakparkusd.org/Page/7447\"))"
     ],
     "language": "python",
     "metadata": {},
     "outputs": [],
     "prompt_number": 169
    },
    {
     "cell_type": "code",
     "collapsed": false,
     "input": [
      "rows = soup.find_all('tr')\n",
      "len(rows)\n"
     ],
     "language": "python",
     "metadata": {},
     "outputs": [
      {
       "output_type": "pyout",
       "prompt_number": 170,
       "text": [
        "100"
       ]
      }
     ],
     "prompt_number": 170
    },
    {
     "cell_type": "code",
     "collapsed": false,
     "input": [
      "columns = rows[1].text\n",
      "len(columns)"
     ],
     "language": "python",
     "metadata": {},
     "outputs": [
      {
       "output_type": "pyout",
       "prompt_number": 171,
       "text": [
        "134"
       ]
      }
     ],
     "prompt_number": 171
    },
    {
     "cell_type": "code",
     "collapsed": false,
     "input": [
      "def get_columns(row):\n",
      "    colnames = []\n",
      "    for c in row.children:\n",
      "        if isinstance(c,Tag):\n",
      "            for ic in c.children:\n",
      "                if ic.string and len(ic.string.strip()):\n",
      "                    colnames.append(ic.string.strip())\n",
      "                else:\n",
      "                    if isinstance(ic,Tag):\n",
      "                        #print ic.text\n",
      "                        colnames.append(ic.text)\n",
      "    ## Don't want the 1st bit\n",
      "    return colnames[1:]"
     ],
     "language": "python",
     "metadata": {},
     "outputs": [],
     "prompt_number": 233
    },
    {
     "cell_type": "code",
     "collapsed": false,
     "input": [
      "cols = get_columns(rows[1])\n",
      "print cols"
     ],
     "language": "python",
     "metadata": {},
     "outputs": [
      {
       "output_type": "stream",
       "stream": "stdout",
       "text": [
        "[u'Accepted', u'Attending', u'Average AP/C/H', u'Average Unweighted GPA', u'Average\\xa0 \\xa0SAT', u'Average\\xa0 \\xa0ACT']\n"
       ]
      }
     ],
     "prompt_number": 234
    },
    {
     "cell_type": "code",
     "collapsed": false,
     "input": [
      "rows[1]"
     ],
     "language": "python",
     "metadata": {},
     "outputs": [
      {
       "output_type": "pyout",
       "prompt_number": 213,
       "text": [
        "<tr bgcolor=\"lightsteelblue\" style=\"font-family: Arial; font-size: 8pt;\">\n",
        "<td style=\"border-style: none solid solid; padding: 0in 5.4pt; width: 167.4pt; border-right-color: #bfbfbf; border-bottom-color: #bfbfbf; border-left-color: #bfbfbf; border-right-width: 1pt; border-bottom-width: 1pt; border-left-width: 1pt;\" width=\"223\">\n",
        "<p><strong>(OUT OF STATE) </strong><strong style=\"font-size: 8pt;\">COLLEGE/UNIVERSITY</strong></p>\n",
        "</td>\n",
        "<td style=\"border-width: medium 1pt 1pt medium; border-style: none solid solid none; border-color: currentColor #bfbfbf #bfbfbf currentColor; padding: 0in 5.4pt; width: 49.5pt; mso-border-alt: solid #BFBFBF .75pt; mso-border-themecolor: background1; mso-border-left-alt: solid #BFBFBF .75pt; mso-border-left-themecolor: background1; mso-border-top-alt: solid #BFBFBF .75pt; mso-border-top-themecolor: background1; mso-border-bottom-themecolor: background1; mso-border-right-themecolor: background1; mso-border-themeshade: 191; mso-border-top-themeshade: 191; mso-border-left-themeshade: 191; mso-border-right-themeshade: 191; mso-border-bottom-themeshade: 191;\" width=\"66\">\n",
        "<p><strong>Accepted</strong></p>\n",
        "</td>\n",
        "<td colspan=\"2\" style=\"border-width: medium 1pt 1pt medium; border-style: none solid solid none; border-color: currentColor #bfbfbf #bfbfbf currentColor; padding: 0in 5.4pt; width: 0.75in; mso-border-alt: solid #BFBFBF .75pt; mso-border-themecolor: background1; mso-border-left-alt: solid #BFBFBF .75pt; mso-border-left-themecolor: background1; mso-border-top-alt: solid #BFBFBF .75pt; mso-border-top-themecolor: background1; mso-border-bottom-themecolor: background1; mso-border-right-themecolor: background1; mso-border-themeshade: 191; mso-border-top-themeshade: 191; mso-border-left-themeshade: 191; mso-border-right-themeshade: 191; mso-border-bottom-themeshade: 191;\" width=\"72\">\n",
        "<p><strong>Attending</strong></p>\n",
        "</td>\n",
        "<td style=\"border-width: medium 1pt 1pt medium; border-style: none solid solid none; border-color: currentColor #bfbfbf #bfbfbf currentColor; padding: 0in 5.4pt; width: 46.25pt; mso-border-alt: solid #BFBFBF .75pt; mso-border-themecolor: background1; mso-border-left-alt: solid #BFBFBF .75pt; mso-border-left-themecolor: background1; mso-border-top-alt: solid #BFBFBF .75pt; mso-border-top-themecolor: background1; mso-border-bottom-themecolor: background1; mso-border-right-themecolor: background1; mso-border-themeshade: 191; mso-border-top-themeshade: 191; mso-border-left-themeshade: 191; mso-border-right-themeshade: 191; mso-border-bottom-themeshade: 191;\" width=\"62\">\n",
        "<p><strong>Average AP/C/H</strong></p>\n",
        "</td>\n",
        "<td style=\"border-width: medium 1pt 1pt medium; border-style: none solid solid none; border-color: currentColor #bfbfbf #bfbfbf currentColor; padding: 0in 5.4pt; width: 70.55pt; mso-border-alt: solid #BFBFBF .75pt; mso-border-themecolor: background1; mso-border-left-alt: solid #BFBFBF .75pt; mso-border-left-themecolor: background1; mso-border-top-alt: solid #BFBFBF .75pt; mso-border-top-themecolor: background1; mso-border-bottom-themecolor: background1; mso-border-right-themecolor: background1; mso-border-themeshade: 191; mso-border-top-themeshade: 191; mso-border-left-themeshade: 191; mso-border-right-themeshade: 191; mso-border-bottom-themeshade: 191;\" width=\"94\">\n",
        "<p><strong>Average Unweighted GPA</strong></p>\n",
        "</td>\n",
        "<td style=\"border-width: medium 1pt 1pt medium; border-style: none solid solid none; border-color: currentColor #bfbfbf #bfbfbf currentColor; padding: 0in 5.4pt; width: 54.4pt; mso-border-alt: solid #BFBFBF .75pt; mso-border-themecolor: background1; mso-border-left-alt: solid #BFBFBF .75pt; mso-border-left-themecolor: background1; mso-border-top-alt: solid #BFBFBF .75pt; mso-border-top-themecolor: background1; mso-border-bottom-themecolor: background1; mso-border-right-themecolor: background1; mso-border-themeshade: 191; mso-border-top-themeshade: 191; mso-border-left-themeshade: 191; mso-border-right-themeshade: 191; mso-border-bottom-themeshade: 191;\" width=\"73\">\n",
        "<p><strong>Average</strong>\u00a0 \u00a0<strong style=\"font-size: 8pt;\">SAT</strong></p>\n",
        "</td>\n",
        "<td style=\"border-width: medium 1pt 1pt medium; border-style: none solid solid none; border-color: currentColor #bfbfbf #bfbfbf currentColor; padding: 0in 5.4pt; width: 54.4pt; mso-border-alt: solid #BFBFBF .75pt; mso-border-themecolor: background1; mso-border-left-alt: solid #BFBFBF .75pt; mso-border-left-themecolor: background1; mso-border-top-alt: solid #BFBFBF .75pt; mso-border-top-themecolor: background1; mso-border-bottom-themecolor: background1; mso-border-right-themecolor: background1; mso-border-themeshade: 191; mso-border-top-themeshade: 191; mso-border-left-themeshade: 191; mso-border-right-themeshade: 191; mso-border-bottom-themeshade: 191;\" width=\"73\">\n",
        "<p><strong>Average</strong>\u00a0 \u00a0<strong style=\"font-size: 8pt;\">ACT</strong></p>\n",
        "</td>\n",
        "</tr>"
       ]
      }
     ],
     "prompt_number": 213
    },
    {
     "cell_type": "markdown",
     "metadata": {},
     "source": [
      "### Next the table rows for colleges"
     ]
    },
    {
     "cell_type": "code",
     "collapsed": false,
     "input": [
      "data = {}"
     ],
     "language": "python",
     "metadata": {},
     "outputs": [],
     "prompt_number": 177
    },
    {
     "cell_type": "code",
     "collapsed": false,
     "input": [
      "u1 = get_columns(rows[2])\n",
      "print u1"
     ],
     "language": "python",
     "metadata": {},
     "outputs": [
      {
       "output_type": "stream",
       "stream": "stdout",
       "text": [
        "[u'1', u'1', u'--', u'2.71', u'--', u'2.30']\n"
       ]
      }
     ],
     "prompt_number": 235
    },
    {
     "cell_type": "code",
     "collapsed": false,
     "input": [
      "d2 = {'Avg. GPA':{'UC Berkeley':4.5, 'UC San Diego':4.1},'Accepted':{'UC Berkeley':5,'UC San Diego':3}}"
     ],
     "language": "python",
     "metadata": {},
     "outputs": [],
     "prompt_number": 187
    },
    {
     "cell_type": "code",
     "collapsed": false,
     "input": [
      "df = pd.DataFrame(d2)"
     ],
     "language": "python",
     "metadata": {},
     "outputs": [],
     "prompt_number": 191
    },
    {
     "cell_type": "code",
     "collapsed": false,
     "input": [
      "df"
     ],
     "language": "python",
     "metadata": {},
     "outputs": [
      {
       "html": [
        "<div style=\"max-height:1000px;max-width:1500px;overflow:auto;\">\n",
        "<table border=\"1\" class=\"dataframe\">\n",
        "  <thead>\n",
        "    <tr style=\"text-align: right;\">\n",
        "      <th></th>\n",
        "      <th>Accepted</th>\n",
        "      <th>Avg. GPA</th>\n",
        "    </tr>\n",
        "  </thead>\n",
        "  <tbody>\n",
        "    <tr>\n",
        "      <th>UC Berkeley</th>\n",
        "      <td> 5</td>\n",
        "      <td> 4.5</td>\n",
        "    </tr>\n",
        "    <tr>\n",
        "      <th>UC San Diego</th>\n",
        "      <td> 3</td>\n",
        "      <td> 4.1</td>\n",
        "    </tr>\n",
        "  </tbody>\n",
        "</table>\n",
        "</div>"
       ],
       "output_type": "pyout",
       "prompt_number": 193,
       "text": [
        "              Accepted  Avg. GPA\n",
        "UC Berkeley          5       4.5\n",
        "UC San Diego         3       4.1"
       ]
      }
     ],
     "prompt_number": 193
    },
    {
     "cell_type": "code",
     "collapsed": false,
     "input": [
      "df2 = pd.DataFrame()"
     ],
     "language": "python",
     "metadata": {},
     "outputs": [],
     "prompt_number": 192
    },
    {
     "cell_type": "code",
     "collapsed": false,
     "input": [
      "s1 = pd.Series(u1[1:])"
     ],
     "language": "python",
     "metadata": {},
     "outputs": [],
     "prompt_number": 197
    },
    {
     "cell_type": "code",
     "collapsed": false,
     "input": [
      "s1"
     ],
     "language": "python",
     "metadata": {},
     "outputs": [
      {
       "output_type": "pyout",
       "prompt_number": 204,
       "text": [
        "0       1\n",
        "1       1\n",
        "2      --\n",
        "3    2.71\n",
        "4      --\n",
        "5    2.30\n",
        "dtype: object"
       ]
      }
     ],
     "prompt_number": 204
    },
    {
     "cell_type": "code",
     "collapsed": false,
     "input": [
      "s1.convert_objects(convert_numeric=True)"
     ],
     "language": "python",
     "metadata": {},
     "outputs": [
      {
       "output_type": "pyout",
       "prompt_number": 205,
       "text": [
        "0    1.00\n",
        "1    1.00\n",
        "2     NaN\n",
        "3    2.71\n",
        "4     NaN\n",
        "5    2.30\n",
        "dtype: float64"
       ]
      }
     ],
     "prompt_number": 205
    },
    {
     "cell_type": "code",
     "collapsed": false,
     "input": [
      "df3 = pd.DataFrame(index=['UC Berkeley','UC San Diego'],columns=cols)"
     ],
     "language": "python",
     "metadata": {},
     "outputs": [],
     "prompt_number": 211
    },
    {
     "cell_type": "code",
     "collapsed": false,
     "input": [
      "df3"
     ],
     "language": "python",
     "metadata": {},
     "outputs": [
      {
       "html": [
        "<div style=\"max-height:1000px;max-width:1500px;overflow:auto;\">\n",
        "<table border=\"1\" class=\"dataframe\">\n",
        "  <thead>\n",
        "    <tr style=\"text-align: right;\">\n",
        "      <th></th>\n",
        "      <th>Accepted</th>\n",
        "      <th>Attending</th>\n",
        "      <th>Average AP/C/H</th>\n",
        "      <th>Average Unweighted GPA</th>\n",
        "    </tr>\n",
        "  </thead>\n",
        "  <tbody>\n",
        "    <tr>\n",
        "      <th>UC Berkeley</th>\n",
        "      <td> NaN</td>\n",
        "      <td> NaN</td>\n",
        "      <td> NaN</td>\n",
        "      <td> NaN</td>\n",
        "    </tr>\n",
        "    <tr>\n",
        "      <th>UC San Diego</th>\n",
        "      <td> NaN</td>\n",
        "      <td> NaN</td>\n",
        "      <td> NaN</td>\n",
        "      <td> NaN</td>\n",
        "    </tr>\n",
        "  </tbody>\n",
        "</table>\n",
        "</div>"
       ],
       "output_type": "pyout",
       "prompt_number": 212,
       "text": [
        "             Accepted Attending Average AP/C/H Average Unweighted GPA\n",
        "UC Berkeley       NaN       NaN            NaN                    NaN\n",
        "UC San Diego      NaN       NaN            NaN                    NaN"
       ]
      }
     ],
     "prompt_number": 212
    },
    {
     "cell_type": "code",
     "collapsed": false,
     "input": [],
     "language": "python",
     "metadata": {},
     "outputs": []
    }
   ],
   "metadata": {}
  }
 ]
}