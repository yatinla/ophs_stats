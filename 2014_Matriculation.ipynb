{
 "metadata": {
  "name": "2014_Matriculation"
 },
 "nbformat": 3,
 "nbformat_minor": 0,
 "worksheets": [
  {
   "cells": [
    {
     "cell_type": "code",
     "collapsed": false,
     "input": [
      "from bs4 import BeautifulSoup as bs\n",
      "from bs4 import NavigableString\n",
      "from bs4 import Tag\n",
      "import urllib2\n",
      "import pandas as pd\n",
      "import numpy as np"
     ],
     "language": "python",
     "metadata": {},
     "outputs": [],
     "prompt_number": 1
    },
    {
     "cell_type": "code",
     "collapsed": false,
     "input": [
      "soup = bs(urllib2.urlopen(\"http://www.oakparkusd.org/Page/7447\"))"
     ],
     "language": "python",
     "metadata": {},
     "outputs": [],
     "prompt_number": 2
    },
    {
     "cell_type": "code",
     "collapsed": false,
     "input": [
      "rows = soup.find_all('tr')\n",
      "len(rows)\n"
     ],
     "language": "python",
     "metadata": {},
     "outputs": [
      {
       "output_type": "pyout",
       "prompt_number": 3,
       "text": [
        "100"
       ]
      }
     ],
     "prompt_number": 3
    },
    {
     "cell_type": "code",
     "collapsed": false,
     "input": [
      "columns = rows[1].text\n",
      "len(columns)"
     ],
     "language": "python",
     "metadata": {},
     "outputs": [
      {
       "output_type": "pyout",
       "prompt_number": 4,
       "text": [
        "134"
       ]
      }
     ],
     "prompt_number": 4
    },
    {
     "cell_type": "code",
     "collapsed": false,
     "input": [
      "def get_columns(row):\n",
      "    colnames = []\n",
      "    for c in row.children:\n",
      "        if isinstance(c,Tag):\n",
      "            for ic in c.children:\n",
      "                if ic.string and len(ic.string.strip()):\n",
      "                    colnames.append(ic.string.strip())\n",
      "                else:\n",
      "                    if isinstance(ic,Tag):\n",
      "                        #print ic.text\n",
      "                        colnames.append(ic.text)\n",
      "    ## Don't want the 1st bit\n",
      "    return colnames[1:]"
     ],
     "language": "python",
     "metadata": {},
     "outputs": [],
     "prompt_number": 5
    },
    {
     "cell_type": "code",
     "collapsed": false,
     "input": [
      "cols = get_columns(rows[1])\n",
      "print cols"
     ],
     "language": "python",
     "metadata": {},
     "outputs": [
      {
       "output_type": "stream",
       "stream": "stdout",
       "text": [
        "[u'Accepted', u'Attending', u'Average AP/C/H', u'Average Unweighted GPA', u'Average\\xa0 \\xa0SAT', u'Average\\xa0 \\xa0ACT']\n"
       ]
      }
     ],
     "prompt_number": 6
    },
    {
     "cell_type": "markdown",
     "metadata": {},
     "source": [
      "### Next the table rows for colleges"
     ]
    },
    {
     "cell_type": "code",
     "collapsed": false,
     "input": [
      "data = {}"
     ],
     "language": "python",
     "metadata": {},
     "outputs": [],
     "prompt_number": 7
    },
    {
     "cell_type": "code",
     "collapsed": false,
     "input": [
      "u1 = get_columns(rows[2])\n",
      "print u1"
     ],
     "language": "python",
     "metadata": {},
     "outputs": [
      {
       "output_type": "stream",
       "stream": "stdout",
       "text": [
        "[u'1', u'1', u'--', u'2.71', u'--', u'2.30']\n"
       ]
      }
     ],
     "prompt_number": 8
    },
    {
     "cell_type": "markdown",
     "metadata": {},
     "source": [
      ">IMPORTANT:  In order to use a Series object to set all the columns of a given row of a DataFrame we must use the columns for the DataFrame as the indices of the Series!"
     ]
    },
    {
     "cell_type": "code",
     "collapsed": false,
     "input": [
      "s1 = pd.Series(u1,index=cols)  # Use cols as the indexer for the s1 Series"
     ],
     "language": "python",
     "metadata": {},
     "outputs": [],
     "prompt_number": 24
    },
    {
     "cell_type": "code",
     "collapsed": false,
     "input": [
      "s1"
     ],
     "language": "python",
     "metadata": {},
     "outputs": [
      {
       "output_type": "pyout",
       "prompt_number": 25,
       "text": [
        "Accepted                     1\n",
        "Attending                    1\n",
        "Average AP/C/H              --\n",
        "Average Unweighted GPA    2.71\n",
        "Average\u00a0 \u00a0SAT               --\n",
        "Average\u00a0 \u00a0ACT             2.30\n",
        "dtype: object"
       ]
      }
     ],
     "prompt_number": 25
    },
    {
     "cell_type": "markdown",
     "metadata": {},
     "source": [
      "Next, convert the strings to floats replacing those strings that don't convert with `NaN`"
     ]
    },
    {
     "cell_type": "code",
     "collapsed": false,
     "input": [
      "s2 = s1.convert_objects(convert_numeric=True)\n",
      "s2"
     ],
     "language": "python",
     "metadata": {},
     "outputs": [
      {
       "output_type": "pyout",
       "prompt_number": 26,
       "text": [
        "Accepted                  1.00\n",
        "Attending                 1.00\n",
        "Average AP/C/H             NaN\n",
        "Average Unweighted GPA    2.71\n",
        "Average\u00a0 \u00a0SAT              NaN\n",
        "Average\u00a0 \u00a0ACT             2.30\n",
        "dtype: float64"
       ]
      }
     ],
     "prompt_number": 26
    },
    {
     "cell_type": "markdown",
     "metadata": {},
     "source": [
      "Next, create the DataFrame using the desired columns"
     ]
    },
    {
     "cell_type": "code",
     "collapsed": false,
     "input": [
      "df = pd.DataFrame(index=['UC Berkeley','UC San Diego'],columns=cols,dtype=float)"
     ],
     "language": "python",
     "metadata": {},
     "outputs": [],
     "prompt_number": 27
    },
    {
     "cell_type": "code",
     "collapsed": false,
     "input": [
      "df"
     ],
     "language": "python",
     "metadata": {},
     "outputs": [
      {
       "html": [
        "<div style=\"max-height:1000px;max-width:1500px;overflow:auto;\">\n",
        "<table border=\"1\" class=\"dataframe\">\n",
        "  <thead>\n",
        "    <tr style=\"text-align: right;\">\n",
        "      <th></th>\n",
        "      <th>Accepted</th>\n",
        "      <th>Attending</th>\n",
        "      <th>Average AP/C/H</th>\n",
        "      <th>Average Unweighted GPA</th>\n",
        "      <th>Average\u00a0 \u00a0SAT</th>\n",
        "      <th>Average\u00a0 \u00a0ACT</th>\n",
        "    </tr>\n",
        "  </thead>\n",
        "  <tbody>\n",
        "    <tr>\n",
        "      <th>UC Berkeley</th>\n",
        "      <td>NaN</td>\n",
        "      <td>NaN</td>\n",
        "      <td>NaN</td>\n",
        "      <td>NaN</td>\n",
        "      <td>NaN</td>\n",
        "      <td>NaN</td>\n",
        "    </tr>\n",
        "    <tr>\n",
        "      <th>UC San Diego</th>\n",
        "      <td>NaN</td>\n",
        "      <td>NaN</td>\n",
        "      <td>NaN</td>\n",
        "      <td>NaN</td>\n",
        "      <td>NaN</td>\n",
        "      <td>NaN</td>\n",
        "    </tr>\n",
        "  </tbody>\n",
        "</table>\n",
        "</div>"
       ],
       "output_type": "pyout",
       "prompt_number": 28,
       "text": [
        "              Accepted  Attending  Average AP/C/H  Average Unweighted GPA  \\\n",
        "UC Berkeley        NaN        NaN             NaN                     NaN   \n",
        "UC San Diego       NaN        NaN             NaN                     NaN   \n",
        "\n",
        "              Average\u00a0 \u00a0SAT  Average\u00a0 \u00a0ACT  \n",
        "UC Berkeley             NaN            NaN  \n",
        "UC San Diego            NaN            NaN  "
       ]
      }
     ],
     "prompt_number": 28
    },
    {
     "cell_type": "markdown",
     "metadata": {},
     "source": [
      "#Setting a row using a Series\n",
      "In order to set all columns of the row from a Series the Series object *must* have, as its indices, the same indices as the columns of the DataFrame object"
     ]
    },
    {
     "cell_type": "code",
     "collapsed": false,
     "input": [
      "df.loc['UC Berkeley'] = s2"
     ],
     "language": "python",
     "metadata": {},
     "outputs": [],
     "prompt_number": 22
    },
    {
     "cell_type": "code",
     "collapsed": false,
     "input": [
      "df"
     ],
     "language": "python",
     "metadata": {},
     "outputs": [
      {
       "html": [
        "<div style=\"max-height:1000px;max-width:1500px;overflow:auto;\">\n",
        "<table border=\"1\" class=\"dataframe\">\n",
        "  <thead>\n",
        "    <tr style=\"text-align: right;\">\n",
        "      <th></th>\n",
        "      <th>Accepted</th>\n",
        "      <th>Attending</th>\n",
        "      <th>Average AP/C/H</th>\n",
        "      <th>Average Unweighted GPA</th>\n",
        "      <th>Average\u00a0 \u00a0SAT</th>\n",
        "      <th>Average\u00a0 \u00a0ACT</th>\n",
        "    </tr>\n",
        "  </thead>\n",
        "  <tbody>\n",
        "    <tr>\n",
        "      <th>UC Berkeley</th>\n",
        "      <td>  1</td>\n",
        "      <td>  1</td>\n",
        "      <td>NaN</td>\n",
        "      <td> 2.71</td>\n",
        "      <td>NaN</td>\n",
        "      <td> 2.3</td>\n",
        "    </tr>\n",
        "    <tr>\n",
        "      <th>UC San Diego</th>\n",
        "      <td>NaN</td>\n",
        "      <td>NaN</td>\n",
        "      <td>NaN</td>\n",
        "      <td>  NaN</td>\n",
        "      <td>NaN</td>\n",
        "      <td> NaN</td>\n",
        "    </tr>\n",
        "  </tbody>\n",
        "</table>\n",
        "</div>"
       ],
       "output_type": "pyout",
       "prompt_number": 23,
       "text": [
        "              Accepted  Attending  Average AP/C/H  Average Unweighted GPA  \\\n",
        "UC Berkeley          1          1             NaN                    2.71   \n",
        "UC San Diego       NaN        NaN             NaN                     NaN   \n",
        "\n",
        "              Average\u00a0 \u00a0SAT  Average\u00a0 \u00a0ACT  \n",
        "UC Berkeley             NaN            2.3  \n",
        "UC San Diego            NaN            NaN  "
       ]
      }
     ],
     "prompt_number": 23
    },
    {
     "cell_type": "code",
     "collapsed": false,
     "input": [],
     "language": "python",
     "metadata": {},
     "outputs": [],
     "prompt_number": 19
    }
   ],
   "metadata": {}
  }
 ]
}